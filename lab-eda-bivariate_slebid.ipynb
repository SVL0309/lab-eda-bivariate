{
 "cells": [
  {
   "cell_type": "markdown",
   "id": "51843bb2",
   "metadata": {},
   "source": [
    "## Lab - EDA Bivariate Analysis: Diving into Amazon UK Product Insights Part II\n",
    "\n",
    "**Objective**: Delve into the dynamics of product pricing on Amazon UK to uncover insights that can inform business strategies and decision-making.\n",
    "\n",
    "**Dataset**: This lab utilizes the [Amazon UK product dataset](https://www.kaggle.com/datasets/asaniczka/uk-optimal-product-price-prediction/)\n",
    "which provides information on product categories, brands, prices, ratings, and more from from Amazon UK.\n",
    "You'll need to download it to start working with it."
   ]
  },
  {
   "cell_type": "code",
   "execution_count": null,
   "id": "a9f5eba2",
   "metadata": {},
   "outputs": [],
   "source": [
    "import pandas as pd\n",
    "import matplotlib.pyplot as plt\n",
    "import seaborn as sns\n",
    "import numpy as np\n",
    "\n",
    "%matplotlib inline\n",
    "\n",
    "df = pd.read_csv(r'C:\\Users\\38095\\Documents\\amz_uk_price_prediction_dataset.csv')\n",
    "\n",
    "df"
   ]
  },
  {
   "cell_type": "markdown",
   "id": "1db4b42e",
   "metadata": {},
   "source": [
    "### Part 1: Analyzing Best-Seller Trends Across Product Categories\n",
    "\n",
    "**Objective**: Understand the relationship between product categories and their best-seller status."
   ]
  },
  {
   "cell_type": "markdown",
   "id": "dfcf57b0",
   "metadata": {},
   "source": [
    "1. **Crosstab Analysis**:\n",
    "    - Create a crosstab between the product `` and the `isBestSeller` status.\n",
    "    - Are there categories where being a best-seller is more prevalent? \n",
    "\n",
    "*Hint: one option is to calculate the proportion of best-sellers for each category and then sort the categories based on this proportion in descending order.*"
   ]
  },
  {
   "cell_type": "code",
   "execution_count": null,
   "id": "d08b0539",
   "metadata": {},
   "outputs": [],
   "source": [
    "crosstab_result = pd.crosstab(df['category'], df['isBestSeller'])\n",
    "crosstab_result"
   ]
  },
  {
   "cell_type": "code",
   "execution_count": null,
   "id": "0e8392f3",
   "metadata": {},
   "outputs": [],
   "source": [
    "crosstab_result.columns"
   ]
  },
  {
   "cell_type": "code",
   "execution_count": null,
   "id": "f24d25ee",
   "metadata": {},
   "outputs": [],
   "source": [
    "crosstab_result['True_False_Ratio'] = crosstab_result[True] / crosstab_result[False]\n",
    "sorted_table_crosstab_result = crosstab_result.sort_values(by='True_False_Ratio', ascending=False)\n",
    "sorted_table_crosstab_result"
   ]
  },
  {
   "cell_type": "markdown",
   "id": "4ed7e1e7",
   "metadata": {},
   "source": [
    "2. **Statistical Tests**:\n",
    "    - Conduct a Chi-square test to determine if the best-seller distribution is independent of the product category.\n",
    "    - Compute Cramér's V to understand the strength of association between best-seller status and category."
   ]
  },
  {
   "cell_type": "code",
   "execution_count": null,
   "id": "c8004698",
   "metadata": {},
   "outputs": [],
   "source": [
    "from scipy.stats import chi2_contingency\n",
    "\n",
    "chi2_statistic, chi2_p_value, _, _ = chi2_contingency(crosstab_result)\n",
    "\n",
    "chi2_statistic, chi2_p_value"
   ]
  },
  {
   "cell_type": "markdown",
   "id": "b37b5bf6",
   "metadata": {},
   "source": [
    "The null hypothesis of the Chi-square test is that the two categorical variables are independent. Given the 0,0 ( p )-value, we accept the null hypothesis. This implies that there's no a significant association between the best-seller distribution and the product category in the dataset."
   ]
  },
  {
   "cell_type": "code",
   "execution_count": null,
   "id": "9efe29b0",
   "metadata": {},
   "outputs": [],
   "source": [
    "observed_array = crosstab_result.values\n",
    "from scipy.stats.contingency import association\n",
    "association(observed_array, method=\"cramer\")"
   ]
  },
  {
   "cell_type": "markdown",
   "id": "1902704c",
   "metadata": {},
   "source": [
    "3. **Visualizations**:\n",
    "\t- Visualize the relationship between product categories and the best-seller status using a stacked bar chart."
   ]
  },
  {
   "cell_type": "code",
   "execution_count": null,
   "id": "b22b61c6",
   "metadata": {},
   "outputs": [],
   "source": [
    "crosstab_result.plot(kind=\"bar\", stacked=True)"
   ]
  },
  {
   "cell_type": "code",
   "execution_count": null,
   "id": "9505ff65",
   "metadata": {},
   "outputs": [],
   "source": [
    "import matplotlib.pyplot as plt\n",
    "\n",
    "top_20 = crosstab_result.nlargest(20, 'True_False_Ratio')\n",
    "\n",
    "# Создание графика\n",
    "ax = top_20.plot(kind=\"bar\", stacked=True)\n",
    "\n",
    "# Установка интервалов для оси x\n",
    "plt.xticks(range(len(top_20.index)), top_20.index)\n",
    "\n",
    "# Отображение графика\n",
    "plt.show()"
   ]
  },
  {
   "cell_type": "markdown",
   "id": "11a0b338",
   "metadata": {},
   "source": [
    "### Part 2: Exploring Product Prices and Ratings Across Categories and Brands\n",
    "\n",
    "**Objective**: Investigate how different product categories influence product prices.\n",
    "\n",
    "0. **Preliminary Step: Remove outliers in product prices.**\n",
    "\n",
    "For this purpose, we can use the IQR (Interquartile Range) method.\n",
    "Products priced below the first quartile minus 1.5 times the IQR or above the third quartile plus 1.5 times\n",
    "the IQR will be considered outliers and removed from the dataset.\n",
    "The next steps will be done with the dataframe without outliers.\n",
    "\n",
    "*Hint: you can check the last Check For Understanding at the end of the lesson EDA Bivariate Analysis\n",
    "for a hint on how to do this.*\n"
   ]
  },
  {
   "cell_type": "code",
   "execution_count": null,
   "id": "7f2723ad",
   "metadata": {},
   "outputs": [],
   "source": [
    "def remove_outliers_iqr(df, column):\n",
    "    Q1 = df[column].quantile(0.25)\n",
    "    Q3 = df[column].quantile(0.75)\n",
    "    IQR = Q3 - Q1\n",
    "    \n",
    "    lower_bound = Q1 - 1.5 * IQR\n",
    "    upper_bound = Q3 + 1.5 * IQR\n",
    "    \n",
    "    filtered_df = df[(df[column] >= lower_bound) & (df[column] <= upper_bound)]\n",
    "    \n",
    "    return filtered_df"
   ]
  },
  {
   "cell_type": "code",
   "execution_count": null,
   "id": "fba90e26",
   "metadata": {},
   "outputs": [],
   "source": [
    "data_series = df['price']  # replace 'ColumnName' with your specific column\n",
    "outliers = tukeys_test_outliers(data_series)\n",
    "print(outliers)"
   ]
  },
  {
   "cell_type": "code",
   "execution_count": null,
   "id": "ac60b1c8",
   "metadata": {},
   "outputs": [],
   "source": [
    "filtered_df = remove_outliers_iqr(df, 'price')\n",
    "filtered_df"
   ]
  },
  {
   "cell_type": "markdown",
   "id": "f386baef",
   "metadata": {},
   "source": [
    "1. **Violin Plots**:\n",
    "    - Use a violin plot to visualize the distribution of `price` across different product `categories`. Filter out the top 20 categories based on count for better visualization.\n",
    "    - Which product category tends to have the highest median price? Don't filter here by top categories."
   ]
  },
  {
   "cell_type": "code",
   "execution_count": null,
   "id": "1da80ea4",
   "metadata": {},
   "outputs": [],
   "source": [
    "top20_category = filtered_df['category'].value_counts().head(20).index\n",
    "top20_category"
   ]
  },
  {
   "cell_type": "code",
   "execution_count": null,
   "id": "4bf248b9",
   "metadata": {},
   "outputs": [],
   "source": [
    "df_filtered = filtered_df[filtered_df['category'].isin(top20_category)]\n",
    "df_filtered"
   ]
  },
  {
   "cell_type": "code",
   "execution_count": null,
   "id": "72389d4f",
   "metadata": {},
   "outputs": [],
   "source": [
    "plt.figure(figsize=(12, 8))\n",
    "sns.violinplot(x='category', y='price', data=df_filtered)\n",
    "plt.xticks(rotation=90)\n",
    "plt.xlabel('Category')\n",
    "plt.ylabel('Price')\n",
    "plt.title('Distribution of Price across Top 20 Product Categories')\n",
    "plt.show()"
   ]
  },
  {
   "cell_type": "markdown",
   "id": "94463743",
   "metadata": {},
   "source": [
    "2. **Bar Charts**:\n",
    "    - Create a bar chart comparing the average price of products for the top 10 product categories (based on count).\n",
    "    - Which product category commands the highest average price? Don't filter here by top categories."
   ]
  },
  {
   "cell_type": "code",
   "execution_count": null,
   "id": "c65992f8",
   "metadata": {},
   "outputs": [],
   "source": [
    "top10_category = filtered_df['category'].value_counts().head(10).index\n",
    "top10_category"
   ]
  },
  {
   "cell_type": "code",
   "execution_count": null,
   "id": "0cc60774",
   "metadata": {},
   "outputs": [],
   "source": [
    "average_prices = {}\n",
    "for category in top10_category:\n",
    "    average_price_per_category = df_filtered[df_filtered['category'] == category]['price'].mean()\n",
    "    average_prices[category] = average_price_per_category\n",
    "\n",
    "av_price_df = pd.DataFrame({'category': list(average_prices.keys()), 'av_price': list(average_prices.values())}).sort_values(by='av_price', ascending=False)\n",
    "av_price_df"
   ]
  },
  {
   "cell_type": "code",
   "execution_count": null,
   "id": "d4432003",
   "metadata": {
    "scrolled": true
   },
   "outputs": [],
   "source": [
    "average_prices"
   ]
  },
  {
   "cell_type": "code",
   "execution_count": null,
   "id": "76914da8",
   "metadata": {},
   "outputs": [],
   "source": [
    "sns.barplot(data=av_price_df,  x='category', y='av_price', palette=\"coolwarm\")"
   ]
  },
  {
   "cell_type": "markdown",
   "id": "6f0f4232",
   "metadata": {},
   "source": [
    "3. **Box Plots**:\n",
    "    - Visualize the distribution of product `ratings` based on their `category` using side-by-side box plots. Filter out the top 10 categories based on count for better visualization.\n",
    "    - Which category tends to receive the highest median rating from customers? Don't filter here by top categories."
   ]
  },
  {
   "cell_type": "code",
   "execution_count": null,
   "id": "15e4aa89",
   "metadata": {},
   "outputs": [],
   "source": [
    "average_rating = {}\n",
    "for category in top10_category:\n",
    "    average_rating_per_category = df_filtered[df_filtered['category'] == category]['stars'].mean()\n",
    "    average_rating[category] = average_rating_per_category\n",
    "\n",
    "av_rating_df = pd.DataFrame({'category': list(average_prices.keys()), 'rating': list(average_rating.values())})\n",
    "av_rating_df"
   ]
  },
  {
   "cell_type": "code",
   "execution_count": null,
   "id": "a027bacf",
   "metadata": {},
   "outputs": [],
   "source": [
    "for category in top10_category:\n",
    "    plt.figure(figsize=(12, 8))\n",
    "    sns.boxplot(x='category', y='stars', data=df[df['category'] == category])\n",
    "    plt.xticks(rotation=90)\n",
    "    plt.xlabel('Category')\n",
    "    plt.ylabel('Rating')\n",
    "    plt.title(f'Distribution of Product Ratings in Category: {category}')\n",
    "    plt.show()"
   ]
  },
  {
   "cell_type": "code",
   "execution_count": null,
   "id": "cc97aa81",
   "metadata": {},
   "outputs": [],
   "source": [
    "df_top10 = df[df['category'].isin(top10_category)]\n",
    "plt.figure(figsize=(12, 8))\n",
    "sns.boxplot(x='category', y='stars', data=df_top10)\n",
    "plt.xticks(rotation=90)\n",
    "plt.xlabel('Category')\n",
    "plt.ylabel('Rating')\n",
    "plt.title('Distribution of Product Ratings by Category')\n",
    "plt.show()"
   ]
  },
  {
   "cell_type": "markdown",
   "id": "e0aac4de",
   "metadata": {},
   "source": [
    "### Part 3: Investigating the Interplay Between Product Prices and Ratings\n",
    "\n",
    "**Objective**: Analyze how product ratings (`stars`) correlate with product prices."
   ]
  },
  {
   "cell_type": "markdown",
   "id": "eb6d9c29",
   "metadata": {},
   "source": [
    "1. **Correlation Coefficients**:\n",
    "    - Calculate the correlation coefficient between `price` and `stars`.\n",
    "    - Is there a significant correlation between product price and its rating?"
   ]
  },
  {
   "cell_type": "code",
   "execution_count": null,
   "id": "a7637f8d",
   "metadata": {},
   "outputs": [],
   "source": [
    "correlation_matrix = df[['price', 'stars']].corr()\n",
    "correlation_coefficient = correlation_matrix.loc['price', 'stars']\n",
    "correlation_coefficient"
   ]
  },
  {
   "cell_type": "markdown",
   "id": "c688d927",
   "metadata": {},
   "source": [
    "2. **Visualizations**:\n",
    "    - Use a scatter plot to visualize the relationship between product rating and price. What patterns can you observe?\n",
    "    - Use a correlation heatmap to visualize correlations between all numerical variables.\n",
    "    - Examine if product prices typically follow a normal distribution using a QQ plot. "
   ]
  },
  {
   "cell_type": "code",
   "execution_count": null,
   "id": "33ad9e61",
   "metadata": {},
   "outputs": [],
   "source": [
    "sns.scatterplot(x='stars', y='price', data=df)\n",
    "plt.title('Relationship between Product Rating and Price')\n",
    "plt.xlabel('Rating')\n",
    "plt.ylabel('Price')\n",
    "plt.show()"
   ]
  },
  {
   "cell_type": "code",
   "execution_count": null,
   "id": "96605cd3",
   "metadata": {
    "scrolled": true
   },
   "outputs": [],
   "source": [
    "potential_categorical_from_numerical = df.select_dtypes(\"number\").loc[:, df.select_dtypes(\"number\").nunique() < 20]\n",
    "df_numerical = df.select_dtypes(\"number\").drop(columns=potential_categorical_from_numerical.columns)\n",
    "plt.figure(figsize=(10, 6))\n",
    "plt.figure(figsize=(10, 6))\n",
    "sns.heatmap(df_numerical.corr(), annot=True, cmap='coolwarm', fmt=\".2f\")\n",
    "plt.title('Correlation Heatmap')\n",
    "plt.show()"
   ]
  },
  {
   "cell_type": "code",
   "execution_count": null,
   "id": "31b32e9d",
   "metadata": {},
   "outputs": [],
   "source": [
    "import statsmodels.api as sm\n",
    "sm.qqplot(df['price'], line='s')"
   ]
  },
  {
   "cell_type": "markdown",
   "id": "262a15ff",
   "metadata": {},
   "source": [
    "**Submission**: Submit a Jupyter Notebook which contains code and a business-centric report summarizing your findings. "
   ]
  },
  {
   "cell_type": "markdown",
   "id": "e3434d2b",
   "metadata": {},
   "source": [
    "**Bonus**: \n",
    "\n",
    "- Do the same analysis without taking out the outliers. What are your insights?"
   ]
  }
 ],
 "metadata": {
  "kernelspec": {
   "display_name": "Python 3 (ipykernel)",
   "language": "python",
   "name": "python3"
  },
  "language_info": {
   "codemirror_mode": {
    "name": "ipython",
    "version": 3
   },
   "file_extension": ".py",
   "mimetype": "text/x-python",
   "name": "python",
   "nbconvert_exporter": "python",
   "pygments_lexer": "ipython3",
   "version": "3.11.5"
  }
 },
 "nbformat": 4,
 "nbformat_minor": 5
}
